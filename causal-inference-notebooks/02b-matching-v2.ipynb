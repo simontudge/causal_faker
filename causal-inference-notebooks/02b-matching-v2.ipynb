{
 "cells": [
  {
   "cell_type": "markdown",
   "metadata": {},
   "source": [
    "# Matching"
   ]
  },
  {
   "cell_type": "markdown",
   "metadata": {},
   "source": [
    "Let's take a look at a simple technique known as matching, which we can use to estimate the certain effects.\n",
    "\n",
    "Model:\n",
    "\n",
    "A very simple toy example about vitamin C.\n",
    "\n",
    "There are two types of people, those who are likely to get colds, and those that are not. In my simplistic universe this is a binary feature.\n",
    "\n",
    "People can also choose to take vitamin C or not.\n",
    "\n",
    "We assume that vitamin c is reduces the chance of getting a cold.\n",
    "\n",
    "However, those who are likely to get a cold are also more likely to take the vitamin.\n",
    "\n",
    "So measuring the correlation between taking the vitamin, and having a cold is likely to give a false result.\n",
    "\n",
    "Let's first create some fake data for this.\n",
    "\n",
    "Let's model the following scenario, our population is everyone who was not taking vitamin C in 2019. Some of them had colds then.\n",
    "\n",
    "In 2020 some of them decide to start taking vitamin-C, some know have colds, some do not.\n",
    "\n",
    "We know whether people started taking the medicine or not, we know if they had a cold in 2019, and whether they have a cold now in 2020.\n",
    "\n",
    "There are two types of people, those who are suciptible to colds, they get a cold in the winter with probability p_s. There are those who are relatively immune (although not completely), they get colds with probability p_i.\n",
    "\n",
    "Takikng vitamin c reduces your chance of getting a cold by e (the effect). So your subsequent chance of getting a cold is p_s(1-e) or p_i(1-e).\n",
    "\n",
    "We don't know which group everyone is in, but we do know whether they previously had a cold.\n",
    "\n",
    "Furthermore, suseptible people are more likley to take the vitamin. They take with probability t_s, and the immune people take with probability t_i.\n",
    "\n",
    "Estimate e from a given set of data."
   ]
  },
  {
   "cell_type": "code",
   "execution_count": 8,
   "metadata": {},
   "outputs": [],
   "source": [
    "from random import random\n",
    "import pandas as pd"
   ]
  },
  {
   "cell_type": "code",
   "execution_count": 71,
   "metadata": {},
   "outputs": [],
   "source": [
    "p_s = 0.6 \n",
    "p_i = 0.3\n",
    "t_s = 0.7\n",
    "t_i = 0.2\n",
    "e = 0.1\n",
    "\n",
    "population_size = 10000\n",
    "\n",
    "# Split people into the two groups respectively.\n",
    "susceptible = [int(random() < 0.5) for _ in range(population_size)]\n",
    "\n",
    "# Now we decide whether these people had colds in 2019\n",
    "had_cold = [int(random() < p_s) if s == 1 else int(random() < p_i) for s in susceptible]\n",
    "\n",
    "# Now we decide if they took the pills, similarly to above.\n",
    "took_pill = [int(random() < t_s) if s == 1 else int(random() < t_i) for s in susceptible]\n",
    "\n",
    "# Determine their probability of getting a cold, recall that this depends on whether they\n",
    "# are susceptible, and if they take the pill\n",
    "p_cold = [p_s*(1-e*tp) if s == 1 else p_i*(1-e*tp) for s, tp in zip(susceptible, took_pill)]\n",
    "\n",
    "# Finally, decide whether they got a cold or not ...\n",
    "has_cold = [int(random() < p) for p in p_cold]\n",
    "\n",
    "# Collect the data into a dataframe\n",
    "df = pd.DataFrame(\n",
    "    {\n",
    "        'susceptible': susceptible,\n",
    "        'had_cold': had_cold,\n",
    "        'took_pill': took_pill,\n",
    "        'p_cold': p_cold,\n",
    "        'has_cold': has_cold\n",
    "    }\n",
    ")"
   ]
  },
  {
   "cell_type": "code",
   "execution_count": 72,
   "metadata": {},
   "outputs": [
    {
     "data": {
      "text/html": [
       "<div>\n",
       "<style scoped>\n",
       "    .dataframe tbody tr th:only-of-type {\n",
       "        vertical-align: middle;\n",
       "    }\n",
       "\n",
       "    .dataframe tbody tr th {\n",
       "        vertical-align: top;\n",
       "    }\n",
       "\n",
       "    .dataframe thead th {\n",
       "        text-align: right;\n",
       "    }\n",
       "</style>\n",
       "<table border=\"1\" class=\"dataframe\">\n",
       "  <thead>\n",
       "    <tr style=\"text-align: right;\">\n",
       "      <th></th>\n",
       "      <th>susceptible</th>\n",
       "      <th>had_cold</th>\n",
       "      <th>took_pill</th>\n",
       "      <th>p_cold</th>\n",
       "      <th>has_cold</th>\n",
       "    </tr>\n",
       "  </thead>\n",
       "  <tbody>\n",
       "    <tr>\n",
       "      <td>0</td>\n",
       "      <td>1</td>\n",
       "      <td>0</td>\n",
       "      <td>1</td>\n",
       "      <td>0.54</td>\n",
       "      <td>1</td>\n",
       "    </tr>\n",
       "    <tr>\n",
       "      <td>1</td>\n",
       "      <td>1</td>\n",
       "      <td>0</td>\n",
       "      <td>0</td>\n",
       "      <td>0.60</td>\n",
       "      <td>1</td>\n",
       "    </tr>\n",
       "    <tr>\n",
       "      <td>2</td>\n",
       "      <td>1</td>\n",
       "      <td>0</td>\n",
       "      <td>1</td>\n",
       "      <td>0.54</td>\n",
       "      <td>1</td>\n",
       "    </tr>\n",
       "    <tr>\n",
       "      <td>3</td>\n",
       "      <td>1</td>\n",
       "      <td>1</td>\n",
       "      <td>0</td>\n",
       "      <td>0.60</td>\n",
       "      <td>1</td>\n",
       "    </tr>\n",
       "    <tr>\n",
       "      <td>4</td>\n",
       "      <td>0</td>\n",
       "      <td>0</td>\n",
       "      <td>0</td>\n",
       "      <td>0.30</td>\n",
       "      <td>0</td>\n",
       "    </tr>\n",
       "  </tbody>\n",
       "</table>\n",
       "</div>"
      ],
      "text/plain": [
       "   susceptible  had_cold  took_pill  p_cold  has_cold\n",
       "0            1         0          1    0.54         1\n",
       "1            1         0          0    0.60         1\n",
       "2            1         0          1    0.54         1\n",
       "3            1         1          0    0.60         1\n",
       "4            0         0          0    0.30         0"
      ]
     },
     "execution_count": 72,
     "metadata": {},
     "output_type": "execute_result"
    }
   ],
   "source": [
    "df.head()"
   ]
  },
  {
   "cell_type": "markdown",
   "metadata": {},
   "source": [
    "Now this is essentially a sanity check, we should get back (roughly) the numbers we put in above."
   ]
  },
  {
   "cell_type": "code",
   "execution_count": 73,
   "metadata": {},
   "outputs": [
    {
     "data": {
      "text/html": [
       "<div>\n",
       "<style scoped>\n",
       "    .dataframe tbody tr th:only-of-type {\n",
       "        vertical-align: middle;\n",
       "    }\n",
       "\n",
       "    .dataframe tbody tr th {\n",
       "        vertical-align: top;\n",
       "    }\n",
       "\n",
       "    .dataframe thead th {\n",
       "        text-align: right;\n",
       "    }\n",
       "</style>\n",
       "<table border=\"1\" class=\"dataframe\">\n",
       "  <thead>\n",
       "    <tr style=\"text-align: right;\">\n",
       "      <th></th>\n",
       "      <th>had_cold</th>\n",
       "      <th>took_pill</th>\n",
       "    </tr>\n",
       "    <tr>\n",
       "      <th>susceptible</th>\n",
       "      <th></th>\n",
       "      <th></th>\n",
       "    </tr>\n",
       "  </thead>\n",
       "  <tbody>\n",
       "    <tr>\n",
       "      <td>0</td>\n",
       "      <td>0.304922</td>\n",
       "      <td>0.20068</td>\n",
       "    </tr>\n",
       "    <tr>\n",
       "      <td>1</td>\n",
       "      <td>0.599360</td>\n",
       "      <td>0.69932</td>\n",
       "    </tr>\n",
       "  </tbody>\n",
       "</table>\n",
       "</div>"
      ],
      "text/plain": [
       "             had_cold  took_pill\n",
       "susceptible                     \n",
       "0            0.304922    0.20068\n",
       "1            0.599360    0.69932"
      ]
     },
     "execution_count": 73,
     "metadata": {},
     "output_type": "execute_result"
    }
   ],
   "source": [
    "df.groupby('susceptible').agg({'had_cold': 'mean',\n",
    "                               'took_pill': 'mean'\n",
    "                              })"
   ]
  },
  {
   "cell_type": "markdown",
   "metadata": {},
   "source": [
    "And sanity check again, there are four types of people, which should have different probabilities of getting colds, what are these probabilities? The difference in these two numbers is essentially our answer, but remember that in reality the susceptible variable is hidden from us (or at least it would be in reality)."
   ]
  },
  {
   "cell_type": "code",
   "execution_count": 74,
   "metadata": {},
   "outputs": [
    {
     "data": {
      "text/html": [
       "<div>\n",
       "<style scoped>\n",
       "    .dataframe tbody tr th:only-of-type {\n",
       "        vertical-align: middle;\n",
       "    }\n",
       "\n",
       "    .dataframe tbody tr th {\n",
       "        vertical-align: top;\n",
       "    }\n",
       "\n",
       "    .dataframe thead th {\n",
       "        text-align: right;\n",
       "    }\n",
       "</style>\n",
       "<table border=\"1\" class=\"dataframe\">\n",
       "  <thead>\n",
       "    <tr style=\"text-align: right;\">\n",
       "      <th>took_pill</th>\n",
       "      <th>0</th>\n",
       "      <th>1</th>\n",
       "    </tr>\n",
       "    <tr>\n",
       "      <th>susceptible</th>\n",
       "      <th></th>\n",
       "      <th></th>\n",
       "    </tr>\n",
       "  </thead>\n",
       "  <tbody>\n",
       "    <tr>\n",
       "      <td>0</td>\n",
       "      <td>0.3</td>\n",
       "      <td>0.27</td>\n",
       "    </tr>\n",
       "    <tr>\n",
       "      <td>1</td>\n",
       "      <td>0.6</td>\n",
       "      <td>0.54</td>\n",
       "    </tr>\n",
       "  </tbody>\n",
       "</table>\n",
       "</div>"
      ],
      "text/plain": [
       "took_pill      0     1\n",
       "susceptible           \n",
       "0            0.3  0.27\n",
       "1            0.6  0.54"
      ]
     },
     "execution_count": 74,
     "metadata": {},
     "output_type": "execute_result"
    }
   ],
   "source": [
    "df.groupby(['susceptible', 'took_pill']).p_cold.mean().unstack(-1)"
   ]
  },
  {
   "cell_type": "markdown",
   "metadata": {},
   "source": [
    "Now do the naive way to calculate e, this is simply assuming that there are no confounders, and that correlation is causation."
   ]
  },
  {
   "cell_type": "code",
   "execution_count": 75,
   "metadata": {},
   "outputs": [
    {
     "data": {
      "text/plain": [
       "0.09569462353385699"
      ]
     },
     "execution_count": 75,
     "metadata": {},
     "output_type": "execute_result"
    }
   ],
   "source": [
    "naive = df.groupby('has_cold').took_pill.mean()\n",
    "naive[1] - naive[0]"
   ]
  },
  {
   "cell_type": "markdown",
   "metadata": {},
   "source": [
    "Those that took the pill are 12% more likely to have a cold than those that did not! So you shouldn't take the pill right."
   ]
  },
  {
   "cell_type": "markdown",
   "metadata": {},
   "source": [
    "### Simple Matching"
   ]
  },
  {
   "cell_type": "markdown",
   "metadata": {},
   "source": [
    "We can use simple matching to calculate the real effect of taking the pill.\n",
    "\n",
    "Our treatment is the vitamin C pill, and our confounder is whether they had a cold before.\n",
    "\n",
    "So for every example where someone is taking the tablets, find someone who is not, but who is similar in the confounding variable, in this case whether they had a cold last year."
   ]
  },
  {
   "cell_type": "markdown",
   "metadata": {},
   "source": [
    "For everyone who takes a pill, also find someone who doesn't take the pill, but is the same in the confounding variable."
   ]
  },
  {
   "cell_type": "markdown",
   "metadata": {},
   "source": [
    "### GroupBy Method"
   ]
  },
  {
   "cell_type": "markdown",
   "metadata": {},
   "source": [
    "As this is such a simple example, you should be able to find the answer just with groupbys, rather than having to go through actually explicitly matching everything."
   ]
  },
  {
   "cell_type": "markdown",
   "metadata": {},
   "source": [
    "### Regression Method"
   ]
  },
  {
   "cell_type": "markdown",
   "metadata": {},
   "source": [
    "Conceptually similar, what happens if you try a (logistic?) regression in this case? Do you get the same answer?"
   ]
  },
  {
   "cell_type": "markdown",
   "metadata": {},
   "source": [
    "### Using the module"
   ]
  },
  {
   "cell_type": "markdown",
   "metadata": {},
   "source": [
    "Python has a module already, see if your hand made answer is the same."
   ]
  },
  {
   "cell_type": "code",
   "execution_count": 76,
   "metadata": {},
   "outputs": [],
   "source": [
    "from causalinference import CausalModel\n",
    "import numpy as np"
   ]
  },
  {
   "cell_type": "code",
   "execution_count": 77,
   "metadata": {},
   "outputs": [],
   "source": [
    "cm = CausalModel(Y=np.array(has_cold),\n",
    "            D=np.array(had_cold),\n",
    "            X=np.array(took_pill)\n",
    "           )"
   ]
  },
  {
   "cell_type": "code",
   "execution_count": null,
   "metadata": {},
   "outputs": [],
   "source": [
    "cm.est_via_matching()\n",
    "cm.estimates"
   ]
  },
  {
   "cell_type": "code",
   "execution_count": null,
   "metadata": {},
   "outputs": [],
   "source": []
  }
 ],
 "metadata": {
  "kernelspec": {
   "display_name": "Python 3",
   "language": "python",
   "name": "python3"
  },
  "language_info": {
   "codemirror_mode": {
    "name": "ipython",
    "version": 3
   },
   "file_extension": ".py",
   "mimetype": "text/x-python",
   "name": "python",
   "nbconvert_exporter": "python",
   "pygments_lexer": "ipython3",
   "version": "3.6.5"
  }
 },
 "nbformat": 4,
 "nbformat_minor": 2
}
